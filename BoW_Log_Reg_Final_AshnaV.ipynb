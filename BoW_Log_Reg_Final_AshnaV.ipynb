{
  "nbformat": 4,
  "nbformat_minor": 0,
  "metadata": {
    "colab": {
      "name": "BoW_Log_Reg_Final-AshnaV.ipynb",
      "provenance": [],
      "collapsed_sections": [],
      "authorship_tag": "ABX9TyMFHhacJHEEZcfU07ZSB9C/",
      "include_colab_link": true
    },
    "kernelspec": {
      "name": "python3",
      "display_name": "Python 3"
    }
  },
  "cells": [
    {
      "cell_type": "markdown",
      "metadata": {
        "id": "view-in-github",
        "colab_type": "text"
      },
      "source": [
        "<a href=\"https://colab.research.google.com/github/AshnaVirdikar/Internship_files/blob/main/BoW_Log_Reg_Final_AshnaV.ipynb\" target=\"_parent\"><img src=\"https://colab.research.google.com/assets/colab-badge.svg\" alt=\"Open In Colab\"/></a>"
      ]
    },
    {
      "cell_type": "markdown",
      "metadata": {
        "id": "Uo7IjbzrL3Tq"
      },
      "source": [
        "#ASHNA'S CODE USING BAG OF WORDS MODEL FOR NLP"
      ]
    },
    {
      "cell_type": "markdown",
      "metadata": {
        "id": "jZ2CymidL96w"
      },
      "source": [
        "#Importing libraries "
      ]
    },
    {
      "cell_type": "code",
      "metadata": {
        "id": "GCLMIiYwLJt7"
      },
      "source": [
        "import numpy as np\r\n",
        "import matplotlib.pyplot as plt\r\n",
        "import pandas as pd\r\n",
        "import nltk\r\n",
        "import re \r\n",
        "import wordcloud\r\n",
        "import matplotlib\r\n",
        "from textblob import TextBlob\r\n"
      ],
      "execution_count": 1,
      "outputs": []
    },
    {
      "cell_type": "markdown",
      "metadata": {
        "id": "9IR2VuwgMHb0"
      },
      "source": [
        "# Importing the dataset"
      ]
    },
    {
      "cell_type": "code",
      "metadata": {
        "id": "vsZShXMqMJJZ"
      },
      "source": [
        "data= pd.read_csv('Tweet_global_warming.csv')"
      ],
      "execution_count": 2,
      "outputs": []
    },
    {
      "cell_type": "code",
      "metadata": {
        "id": "fmQNi_riMQHV"
      },
      "source": [
        "# to ignore jupytr notebook mein warnings!\r\n",
        "import warnings\r\n",
        "warnings.filterwarnings('ignore')"
      ],
      "execution_count": 3,
      "outputs": []
    },
    {
      "cell_type": "markdown",
      "metadata": {
        "id": "uO4m6uuBMV02"
      },
      "source": [
        "#Exploratory Data Analysis - intuition abt dataset "
      ]
    },
    {
      "cell_type": "code",
      "metadata": {
        "colab": {
          "base_uri": "https://localhost:8080/"
        },
        "id": "EqCnU8OjMScg",
        "outputId": "08b23433-9c9c-424e-eb31-6fb11eddf928"
      },
      "source": [
        "data.info()"
      ],
      "execution_count": 4,
      "outputs": [
        {
          "output_type": "stream",
          "text": [
            "<class 'pandas.core.frame.DataFrame'>\n",
            "RangeIndex: 6090 entries, 0 to 6089\n",
            "Data columns (total 3 columns):\n",
            " #   Column      Non-Null Count  Dtype  \n",
            "---  ------      --------------  -----  \n",
            " 0   tweet       6090 non-null   object \n",
            " 1   existence   4225 non-null   object \n",
            " 2   confidence  6087 non-null   float64\n",
            "dtypes: float64(1), object(2)\n",
            "memory usage: 142.9+ KB\n"
          ],
          "name": "stdout"
        }
      ]
    },
    {
      "cell_type": "code",
      "metadata": {
        "colab": {
          "base_uri": "https://localhost:8080/"
        },
        "id": "fI25Tjo1McBC",
        "outputId": "9514e73d-60be-40a8-9b02-9d0ccbc66350"
      },
      "source": [
        "data['existence'].value_counts()"
      ],
      "execution_count": 5,
      "outputs": [
        {
          "output_type": "execute_result",
          "data": {
            "text/plain": [
              "Y      2554\n",
              "N      1053\n",
              "Yes     557\n",
              "No       61\n",
              "Name: existence, dtype: int64"
            ]
          },
          "metadata": {
            "tags": []
          },
          "execution_count": 5
        }
      ]
    },
    {
      "cell_type": "code",
      "metadata": {
        "colab": {
          "base_uri": "https://localhost:8080/"
        },
        "id": "s38mv8G8Mi7z",
        "outputId": "6bebab24-45b0-452d-d97f-594cc7994ba7"
      },
      "source": [
        "data['confidence'].min()"
      ],
      "execution_count": 6,
      "outputs": [
        {
          "output_type": "execute_result",
          "data": {
            "text/plain": [
              "0.3346"
            ]
          },
          "metadata": {
            "tags": []
          },
          "execution_count": 6
        }
      ]
    },
    {
      "cell_type": "code",
      "metadata": {
        "colab": {
          "base_uri": "https://localhost:8080/"
        },
        "id": "Wm_RlOI4MjAi",
        "outputId": "33751232-03df-48b3-a8f3-bbbc9787e87b"
      },
      "source": [
        "data['confidence'].max()"
      ],
      "execution_count": 7,
      "outputs": [
        {
          "output_type": "execute_result",
          "data": {
            "text/plain": [
              "1.0"
            ]
          },
          "metadata": {
            "tags": []
          },
          "execution_count": 7
        }
      ]
    },
    {
      "cell_type": "code",
      "metadata": {
        "colab": {
          "base_uri": "https://localhost:8080/"
        },
        "id": "yKUGoF2jMjOI",
        "outputId": "362142a9-507d-4ce5-baa3-0130424a8c10"
      },
      "source": [
        "#to check the total number of rows that have duplicate values\r\n",
        "data.duplicated().sum() "
      ],
      "execution_count": 8,
      "outputs": [
        {
          "output_type": "execute_result",
          "data": {
            "text/plain": [
              "127"
            ]
          },
          "metadata": {
            "tags": []
          },
          "execution_count": 8
        }
      ]
    },
    {
      "cell_type": "code",
      "metadata": {
        "id": "2V_k2CI3MjRr"
      },
      "source": [
        "# dropping duplicate values \r\n",
        "data=data.drop_duplicates (keep = 'first',inplace=False)\r\n"
      ],
      "execution_count": 9,
      "outputs": []
    },
    {
      "cell_type": "code",
      "metadata": {
        "colab": {
          "base_uri": "https://localhost:8080/"
        },
        "id": "xMovAgJYMjVz",
        "outputId": "3f6254a7-7e72-4f44-a846-7d144c73ce96"
      },
      "source": [
        "#Checking for missing values \r\n",
        "data.isnull().sum()"
      ],
      "execution_count": 10,
      "outputs": [
        {
          "output_type": "execute_result",
          "data": {
            "text/plain": [
              "tweet            0\n",
              "existence     1829\n",
              "confidence       3\n",
              "dtype: int64"
            ]
          },
          "metadata": {
            "tags": []
          },
          "execution_count": 10
        }
      ]
    },
    {
      "cell_type": "code",
      "metadata": {
        "colab": {
          "base_uri": "https://localhost:8080/"
        },
        "id": "Yvxv51mpM1Dg",
        "outputId": "4b0d5ed5-1496-47df-b692-09b0d03591bb"
      },
      "source": [
        "#dropping missing values \r\n",
        "data=data.dropna(axis=0,how='any') \r\n",
        "data.info()"
      ],
      "execution_count": 11,
      "outputs": [
        {
          "output_type": "stream",
          "text": [
            "<class 'pandas.core.frame.DataFrame'>\n",
            "Int64Index: 4134 entries, 0 to 6089\n",
            "Data columns (total 3 columns):\n",
            " #   Column      Non-Null Count  Dtype  \n",
            "---  ------      --------------  -----  \n",
            " 0   tweet       4134 non-null   object \n",
            " 1   existence   4134 non-null   object \n",
            " 2   confidence  4134 non-null   float64\n",
            "dtypes: float64(1), object(2)\n",
            "memory usage: 129.2+ KB\n"
          ],
          "name": "stdout"
        }
      ]
    },
    {
      "cell_type": "code",
      "metadata": {
        "colab": {
          "base_uri": "https://localhost:8080/"
        },
        "id": "SaNUdjWRM79s",
        "outputId": "8bd73513-a6ec-4423-a137-6ee24552c636"
      },
      "source": [
        "#getting value counts for df\r\n",
        "data['existence'].value_counts()"
      ],
      "execution_count": 12,
      "outputs": [
        {
          "output_type": "execute_result",
          "data": {
            "text/plain": [
              "Y      2519\n",
              "N      1047\n",
              "Yes     510\n",
              "No       58\n",
              "Name: existence, dtype: int64"
            ]
          },
          "metadata": {
            "tags": []
          },
          "execution_count": 12
        }
      ]
    },
    {
      "cell_type": "code",
      "metadata": {
        "colab": {
          "base_uri": "https://localhost:8080/",
          "height": 248
        },
        "id": "x4zTnYGSM8Qn",
        "outputId": "0274cfdf-184d-4fe4-cd2b-dcba5ba60cf8"
      },
      "source": [
        "# Visualizing the values of the 3 classes before nlp model\r\n",
        "import matplotlib.pyplot as plt\r\n",
        "existence= ['YES','NO','N/A'] \r\n",
        "values = [3029,1105,1829] \r\n",
        "import matplotlib.pyplot as plt\r\n",
        " \r\n",
        "\r\n",
        "fig1, ax1 = plt.subplots()\r\n",
        "explode = (0, 0.1, 0) \r\n",
        "ax1.pie(values, explode=explode, labels=existence,autopct='%1.1f%%',\r\n",
        "        shadow=True, startangle=90,textprops={'fontsize': 14})\r\n",
        " \r\n",
        "plt.show()"
      ],
      "execution_count": 13,
      "outputs": [
        {
          "output_type": "display_data",
          "data": {
            "image/png": "[encoded data removed]",
            "text/plain": [
              "<Figure size 432x288 with 1 Axes>"
            ]
          },
          "metadata": {
            "tags": []
          }
        }
      ]
    },
    {
      "cell_type": "markdown",
      "metadata": {
        "id": "hRMW_o9xNIyV"
      },
      "source": [
        "#Part 1: Preprocessing data\r\n",
        "# Cleaning the texts for sentiment analysis"
      ]
    },
    {
      "cell_type": "code",
      "metadata": {
        "id": "ULuOfAX7NEy8"
      },
      "source": [
        "# Created a new columns i.e. clean_tweet contains the same tweets but cleaned version\r\n",
        "data['clean_tweet'] = data['tweet']\r\n"
      ],
      "execution_count": 14,
      "outputs": []
    },
    {
      "cell_type": "code",
      "metadata": {
        "colab": {
          "base_uri": "https://localhost:8080/",
          "height": 204
        },
        "id": "7wsO3CUMNQ-e",
        "outputId": "0b32e846-3ea4-414f-95fc-b7ab998a8454"
      },
      "source": [
        "# Changing all the tweets into lowercase \r\n",
        "data['clean_tweet'] =data['clean_tweet'].apply(lambda x: x.lower())\r\n",
        "data.head()"
      ],
      "execution_count": 16,
      "outputs": [
        {
          "output_type": "execute_result",
          "data": {
            "text/html": [
              "<div>\n",
              "<style scoped>\n",
              "    .dataframe tbody tr th:only-of-type {\n",
              "        vertical-align: middle;\n",
              "    }\n",
              "\n",
              "    .dataframe tbody tr th {\n",
              "        vertical-align: top;\n",
              "    }\n",
              "\n",
              "    .dataframe thead th {\n",
              "        text-align: right;\n",
              "    }\n",
              "</style>\n",
              "<table border=\"1\" class=\"dataframe\">\n",
              "  <thead>\n",
              "    <tr style=\"text-align: right;\">\n",
              "      <th></th>\n",
              "      <th>tweet</th>\n",
              "      <th>existence</th>\n",
              "      <th>confidence</th>\n",
              "      <th>clean_tweet</th>\n",
              "    </tr>\n",
              "  </thead>\n",
              "  <tbody>\n",
              "    <tr>\n",
              "      <th>0</th>\n",
              "      <td>Global warming report urges governments to act...</td>\n",
              "      <td>Yes</td>\n",
              "      <td>1.0000</td>\n",
              "      <td>global warming report urges governments to act...</td>\n",
              "    </tr>\n",
              "    <tr>\n",
              "      <th>1</th>\n",
              "      <td>Fighting poverty and global warming in Africa ...</td>\n",
              "      <td>Yes</td>\n",
              "      <td>1.0000</td>\n",
              "      <td>fighting poverty and global warming in africa ...</td>\n",
              "    </tr>\n",
              "    <tr>\n",
              "      <th>2</th>\n",
              "      <td>Carbon offsets: How a Vatican forest failed to...</td>\n",
              "      <td>Yes</td>\n",
              "      <td>0.8786</td>\n",
              "      <td>carbon offsets: how a vatican forest failed to...</td>\n",
              "    </tr>\n",
              "    <tr>\n",
              "      <th>3</th>\n",
              "      <td>Carbon offsets: How a Vatican forest failed to...</td>\n",
              "      <td>Yes</td>\n",
              "      <td>1.0000</td>\n",
              "      <td>carbon offsets: how a vatican forest failed to...</td>\n",
              "    </tr>\n",
              "    <tr>\n",
              "      <th>4</th>\n",
              "      <td>URUGUAY: Tools Needed for Those Most Vulnerabl...</td>\n",
              "      <td>Yes</td>\n",
              "      <td>0.8087</td>\n",
              "      <td>uruguay: tools needed for those most vulnerabl...</td>\n",
              "    </tr>\n",
              "  </tbody>\n",
              "</table>\n",
              "</div>"
            ],
            "text/plain": [
              "                                               tweet  ...                                        clean_tweet\n",
              "0  Global warming report urges governments to act...  ...  global warming report urges governments to act...\n",
              "1  Fighting poverty and global warming in Africa ...  ...  fighting poverty and global warming in africa ...\n",
              "2  Carbon offsets: How a Vatican forest failed to...  ...  carbon offsets: how a vatican forest failed to...\n",
              "3  Carbon offsets: How a Vatican forest failed to...  ...  carbon offsets: how a vatican forest failed to...\n",
              "4  URUGUAY: Tools Needed for Those Most Vulnerabl...  ...  uruguay: tools needed for those most vulnerabl...\n",
              "\n",
              "[5 rows x 4 columns]"
            ]
          },
          "metadata": {
            "tags": []
          },
          "execution_count": 16
        }
      ]
    },
    {
      "cell_type": "code",
      "metadata": {
        "colab": {
          "base_uri": "https://localhost:8080/",
          "height": 359
        },
        "id": "PIxxzvz4NSfZ",
        "outputId": "6022e19c-02cf-48df-cff2-5e740a890cf5"
      },
      "source": [
        "# Removing \"@user\" from all the tweets\r\n",
        "def remove_pattern(input_txt, pattern):\r\n",
        "    r = re.findall(pattern, input_txt)\r\n",
        "    for i in r:\r\n",
        "        input_txt = re.sub(i, '', input_txt)\r\n",
        "    return input_txt\r\n",
        "\r\n",
        "# remove twitter handles (@user)\r\n",
        "data['clean_tweet'] = np.vectorize(remove_pattern)(data['clean_tweet'], \"@[\\w]*\")\r\n",
        "data.head(10)"
      ],
      "execution_count": 18,
      "outputs": [
        {
          "output_type": "execute_result",
          "data": {
            "text/html": [
              "<div>\n",
              "<style scoped>\n",
              "    .dataframe tbody tr th:only-of-type {\n",
              "        vertical-align: middle;\n",
              "    }\n",
              "\n",
              "    .dataframe tbody tr th {\n",
              "        vertical-align: top;\n",
              "    }\n",
              "\n",
              "    .dataframe thead th {\n",
              "        text-align: right;\n",
              "    }\n",
              "</style>\n",
              "<table border=\"1\" class=\"dataframe\">\n",
              "  <thead>\n",
              "    <tr style=\"text-align: right;\">\n",
              "      <th></th>\n",
              "      <th>tweet</th>\n",
              "      <th>existence</th>\n",
              "      <th>confidence</th>\n",
              "      <th>clean_tweet</th>\n",
              "    </tr>\n",
              "  </thead>\n",
              "  <tbody>\n",
              "    <tr>\n",
              "      <th>0</th>\n",
              "      <td>Global warming report urges governments to act...</td>\n",
              "      <td>Yes</td>\n",
              "      <td>1.0000</td>\n",
              "      <td>global warming report urges governments to act...</td>\n",
              "    </tr>\n",
              "    <tr>\n",
              "      <th>1</th>\n",
              "      <td>Fighting poverty and global warming in Africa ...</td>\n",
              "      <td>Yes</td>\n",
              "      <td>1.0000</td>\n",
              "      <td>fighting poverty and global warming in africa ...</td>\n",
              "    </tr>\n",
              "    <tr>\n",
              "      <th>2</th>\n",
              "      <td>Carbon offsets: How a Vatican forest failed to...</td>\n",
              "      <td>Yes</td>\n",
              "      <td>0.8786</td>\n",
              "      <td>carbon offsets: how a vatican forest failed to...</td>\n",
              "    </tr>\n",
              "    <tr>\n",
              "      <th>3</th>\n",
              "      <td>Carbon offsets: How a Vatican forest failed to...</td>\n",
              "      <td>Yes</td>\n",
              "      <td>1.0000</td>\n",
              "      <td>carbon offsets: how a vatican forest failed to...</td>\n",
              "    </tr>\n",
              "    <tr>\n",
              "      <th>4</th>\n",
              "      <td>URUGUAY: Tools Needed for Those Most Vulnerabl...</td>\n",
              "      <td>Yes</td>\n",
              "      <td>0.8087</td>\n",
              "      <td>uruguay: tools needed for those most vulnerabl...</td>\n",
              "    </tr>\n",
              "    <tr>\n",
              "      <th>5</th>\n",
              "      <td>RT @sejorg: RT @JaymiHeimbuch: Ocean Saltiness...</td>\n",
              "      <td>Yes</td>\n",
              "      <td>1.0000</td>\n",
              "      <td>rt : rt : ocean saltiness shows global warming...</td>\n",
              "    </tr>\n",
              "    <tr>\n",
              "      <th>6</th>\n",
              "      <td>Global warming evidence all around us|A messag...</td>\n",
              "      <td>Yes</td>\n",
              "      <td>1.0000</td>\n",
              "      <td>global warming evidence all around us|a messag...</td>\n",
              "    </tr>\n",
              "    <tr>\n",
              "      <th>7</th>\n",
              "      <td>Migratory Birds' New Climate Change Strategy: ...</td>\n",
              "      <td>Yes</td>\n",
              "      <td>1.0000</td>\n",
              "      <td>migratory birds' new climate change strategy: ...</td>\n",
              "    </tr>\n",
              "    <tr>\n",
              "      <th>8</th>\n",
              "      <td>Southern Africa: Competing for Limpopo Water: ...</td>\n",
              "      <td>Yes</td>\n",
              "      <td>1.0000</td>\n",
              "      <td>southern africa: competing for limpopo water: ...</td>\n",
              "    </tr>\n",
              "    <tr>\n",
              "      <th>9</th>\n",
              "      <td>Global warming to impact wheat, rice productio...</td>\n",
              "      <td>Yes</td>\n",
              "      <td>1.0000</td>\n",
              "      <td>global warming to impact wheat, rice productio...</td>\n",
              "    </tr>\n",
              "  </tbody>\n",
              "</table>\n",
              "</div>"
            ],
            "text/plain": [
              "                                               tweet  ...                                        clean_tweet\n",
              "0  Global warming report urges governments to act...  ...  global warming report urges governments to act...\n",
              "1  Fighting poverty and global warming in Africa ...  ...  fighting poverty and global warming in africa ...\n",
              "2  Carbon offsets: How a Vatican forest failed to...  ...  carbon offsets: how a vatican forest failed to...\n",
              "3  Carbon offsets: How a Vatican forest failed to...  ...  carbon offsets: how a vatican forest failed to...\n",
              "4  URUGUAY: Tools Needed for Those Most Vulnerabl...  ...  uruguay: tools needed for those most vulnerabl...\n",
              "5  RT @sejorg: RT @JaymiHeimbuch: Ocean Saltiness...  ...  rt : rt : ocean saltiness shows global warming...\n",
              "6  Global warming evidence all around us|A messag...  ...  global warming evidence all around us|a messag...\n",
              "7  Migratory Birds' New Climate Change Strategy: ...  ...  migratory birds' new climate change strategy: ...\n",
              "8  Southern Africa: Competing for Limpopo Water: ...  ...  southern africa: competing for limpopo water: ...\n",
              "9  Global warming to impact wheat, rice productio...  ...  global warming to impact wheat, rice productio...\n",
              "\n",
              "[10 rows x 4 columns]"
            ]
          },
          "metadata": {
            "tags": []
          },
          "execution_count": 18
        }
      ]
    },
    {
      "cell_type": "code",
      "metadata": {
        "colab": {
          "base_uri": "https://localhost:8080/",
          "height": 359
        },
        "id": "zRryFjXyNSkJ",
        "outputId": "1a224cbc-4f1e-4b3f-bc66-8b0158664f5d"
      },
      "source": [
        "#Removing links \r\n",
        "\r\n",
        "data['clean_tweet'] =data['clean_tweet'].apply(lambda x : re.sub(r'[https?:\\/\\/]',' ',x))\r\n",
        "data.head(10)"
      ],
      "execution_count": 19,
      "outputs": [
        {
          "output_type": "execute_result",
          "data": {
            "text/html": [
              "<div>\n",
              "<style scoped>\n",
              "    .dataframe tbody tr th:only-of-type {\n",
              "        vertical-align: middle;\n",
              "    }\n",
              "\n",
              "    .dataframe tbody tr th {\n",
              "        vertical-align: top;\n",
              "    }\n",
              "\n",
              "    .dataframe thead th {\n",
              "        text-align: right;\n",
              "    }\n",
              "</style>\n",
              "<table border=\"1\" class=\"dataframe\">\n",
              "  <thead>\n",
              "    <tr style=\"text-align: right;\">\n",
              "      <th></th>\n",
              "      <th>tweet</th>\n",
              "      <th>existence</th>\n",
              "      <th>confidence</th>\n",
              "      <th>clean_tweet</th>\n",
              "    </tr>\n",
              "  </thead>\n",
              "  <tbody>\n",
              "    <tr>\n",
              "      <th>0</th>\n",
              "      <td>Global warming report urges governments to act...</td>\n",
              "      <td>Yes</td>\n",
              "      <td>1.0000</td>\n",
              "      <td>global warming re or  urge  governmen    o ac ...</td>\n",
              "    </tr>\n",
              "    <tr>\n",
              "      <th>1</th>\n",
              "      <td>Fighting poverty and global warming in Africa ...</td>\n",
              "      <td>Yes</td>\n",
              "      <td>1.0000</td>\n",
              "      <td>fig  ing  over y and global warming in africa ...</td>\n",
              "    </tr>\n",
              "    <tr>\n",
              "      <th>2</th>\n",
              "      <td>Carbon offsets: How a Vatican forest failed to...</td>\n",
              "      <td>Yes</td>\n",
              "      <td>0.8786</td>\n",
              "      <td>carbon off e     ow a va ican fore   failed  o...</td>\n",
              "    </tr>\n",
              "    <tr>\n",
              "      <th>3</th>\n",
              "      <td>Carbon offsets: How a Vatican forest failed to...</td>\n",
              "      <td>Yes</td>\n",
              "      <td>1.0000</td>\n",
              "      <td>carbon off e     ow a va ican fore   failed  o...</td>\n",
              "    </tr>\n",
              "    <tr>\n",
              "      <th>4</th>\n",
              "      <td>URUGUAY: Tools Needed for Those Most Vulnerabl...</td>\n",
              "      <td>Yes</td>\n",
              "      <td>0.8087</td>\n",
              "      <td>uruguay   ool  needed for   o e mo   vulnerabl...</td>\n",
              "    </tr>\n",
              "    <tr>\n",
              "      <th>5</th>\n",
              "      <td>RT @sejorg: RT @JaymiHeimbuch: Ocean Saltiness...</td>\n",
              "      <td>Yes</td>\n",
              "      <td>1.0000</td>\n",
              "      <td>r    r    ocean  al ine     ow  global warming...</td>\n",
              "    </tr>\n",
              "    <tr>\n",
              "      <th>6</th>\n",
              "      <td>Global warming evidence all around us|A messag...</td>\n",
              "      <td>Yes</td>\n",
              "      <td>1.0000</td>\n",
              "      <td>global warming evidence all around u |a me  ag...</td>\n",
              "    </tr>\n",
              "    <tr>\n",
              "      <th>7</th>\n",
              "      <td>Migratory Birds' New Climate Change Strategy: ...</td>\n",
              "      <td>Yes</td>\n",
              "      <td>1.0000</td>\n",
              "      <td>migra ory bird ' new clima e c ange   ra egy  ...</td>\n",
              "    </tr>\n",
              "    <tr>\n",
              "      <th>8</th>\n",
              "      <td>Southern Africa: Competing for Limpopo Water: ...</td>\n",
              "      <td>Yes</td>\n",
              "      <td>1.0000</td>\n",
              "      <td>ou  ern africa  com e ing for lim o o wa er  ...</td>\n",
              "    </tr>\n",
              "    <tr>\n",
              "      <th>9</th>\n",
              "      <td>Global warming to impact wheat, rice productio...</td>\n",
              "      <td>Yes</td>\n",
              "      <td>1.0000</td>\n",
              "      <td>global warming  o im ac  w ea , rice  roduc io...</td>\n",
              "    </tr>\n",
              "  </tbody>\n",
              "</table>\n",
              "</div>"
            ],
            "text/plain": [
              "                                               tweet  ...                                        clean_tweet\n",
              "0  Global warming report urges governments to act...  ...  global warming re or  urge  governmen    o ac ...\n",
              "1  Fighting poverty and global warming in Africa ...  ...  fig  ing  over y and global warming in africa ...\n",
              "2  Carbon offsets: How a Vatican forest failed to...  ...  carbon off e     ow a va ican fore   failed  o...\n",
              "3  Carbon offsets: How a Vatican forest failed to...  ...  carbon off e     ow a va ican fore   failed  o...\n",
              "4  URUGUAY: Tools Needed for Those Most Vulnerabl...  ...  uruguay   ool  needed for   o e mo   vulnerabl...\n",
              "5  RT @sejorg: RT @JaymiHeimbuch: Ocean Saltiness...  ...  r    r    ocean  al ine     ow  global warming...\n",
              "6  Global warming evidence all around us|A messag...  ...  global warming evidence all around u |a me  ag...\n",
              "7  Migratory Birds' New Climate Change Strategy: ...  ...  migra ory bird ' new clima e c ange   ra egy  ...\n",
              "8  Southern Africa: Competing for Limpopo Water: ...  ...   ou  ern africa  com e ing for lim o o wa er  ...\n",
              "9  Global warming to impact wheat, rice productio...  ...  global warming  o im ac  w ea , rice  roduc io...\n",
              "\n",
              "[10 rows x 4 columns]"
            ]
          },
          "metadata": {
            "tags": []
          },
          "execution_count": 19
        }
      ]
    },
    {
      "cell_type": "code",
      "metadata": {
        "colab": {
          "base_uri": "https://localhost:8080/",
          "height": 444
        },
        "id": "Dha8udQQNSpi",
        "outputId": "bb8f0a50-31ae-4014-8c38-be7241aa294e"
      },
      "source": [
        "#Replacing Special Characters with space\r\n",
        "data['clean_tweet'] =data['clean_tweet'].apply(lambda x: re.sub(r'[^a-zA-Z]',' ',x))\r\n",
        "#Replacing Punctuations with space\r\n",
        "data['clean_tweet'] =data['clean_tweet'].apply(lambda x: re.sub(r'[^\\w\\s]',' ',x))\r\n",
        "pd.options.display.max_colwidth=200\r\n",
        "data.head(10)"
      ],
      "execution_count": 20,
      "outputs": [
        {
          "output_type": "execute_result",
          "data": {
            "text/html": [
              "<div>\n",
              "<style scoped>\n",
              "    .dataframe tbody tr th:only-of-type {\n",
              "        vertical-align: middle;\n",
              "    }\n",
              "\n",
              "    .dataframe tbody tr th {\n",
              "        vertical-align: top;\n",
              "    }\n",
              "\n",
              "    .dataframe thead th {\n",
              "        text-align: right;\n",
              "    }\n",
              "</style>\n",
              "<table border=\"1\" class=\"dataframe\">\n",
              "  <thead>\n",
              "    <tr style=\"text-align: right;\">\n",
              "      <th></th>\n",
              "      <th>tweet</th>\n",
              "      <th>existence</th>\n",
              "      <th>confidence</th>\n",
              "      <th>clean_tweet</th>\n",
              "    </tr>\n",
              "  </thead>\n",
              "  <tbody>\n",
              "    <tr>\n",
              "      <th>0</th>\n",
              "      <td>Global warming report urges governments to act|BRUSSELS, Belgium (AP) - The world faces increased hunger and .. [link]</td>\n",
              "      <td>Yes</td>\n",
              "      <td>1.0000</td>\n",
              "      <td>global warming re or  urge  governmen    o ac  bru  el   belgium  a       e world face  increa ed  unger and     link</td>\n",
              "    </tr>\n",
              "    <tr>\n",
              "      <th>1</th>\n",
              "      <td>Fighting poverty and global warming in Africa [link]</td>\n",
              "      <td>Yes</td>\n",
              "      <td>1.0000</td>\n",
              "      <td>fig  ing  over y and global warming in africa  link</td>\n",
              "    </tr>\n",
              "    <tr>\n",
              "      <th>2</th>\n",
              "      <td>Carbon offsets: How a Vatican forest failed to reduce global warming [link]</td>\n",
              "      <td>Yes</td>\n",
              "      <td>0.8786</td>\n",
              "      <td>carbon off e     ow a va ican fore   failed  o reduce global warming  link</td>\n",
              "    </tr>\n",
              "    <tr>\n",
              "      <th>3</th>\n",
              "      <td>Carbon offsets: How a Vatican forest failed to reduce global warming [link]</td>\n",
              "      <td>Yes</td>\n",
              "      <td>1.0000</td>\n",
              "      <td>carbon off e     ow a va ican fore   failed  o reduce global warming  link</td>\n",
              "    </tr>\n",
              "    <tr>\n",
              "      <th>4</th>\n",
              "      <td>URUGUAY: Tools Needed for Those Most Vulnerable to Climate Change [link]</td>\n",
              "      <td>Yes</td>\n",
              "      <td>0.8087</td>\n",
              "      <td>uruguay   ool  needed for   o e mo   vulnerable  o clima e c ange  link</td>\n",
              "    </tr>\n",
              "    <tr>\n",
              "      <th>5</th>\n",
              "      <td>RT @sejorg: RT @JaymiHeimbuch: Ocean Saltiness Shows Global Warming Is Intensifying Our Water Cycle [link]</td>\n",
              "      <td>Yes</td>\n",
              "      <td>1.0000</td>\n",
              "      <td>r    r    ocean  al ine     ow  global warming i  in en ifying our wa er cycle  link</td>\n",
              "    </tr>\n",
              "    <tr>\n",
              "      <th>6</th>\n",
              "      <td>Global warming evidence all around us|A message to global warming deniers and doubters: Just look around our .. [link]</td>\n",
              "      <td>Yes</td>\n",
              "      <td>1.0000</td>\n",
              "      <td>global warming evidence all around u  a me  age  o global warming denier  and doub er   ju   look around our     link</td>\n",
              "    </tr>\n",
              "    <tr>\n",
              "      <th>7</th>\n",
              "      <td>Migratory Birds' New Climate Change Strategy: Stay Home [link]</td>\n",
              "      <td>Yes</td>\n",
              "      <td>1.0000</td>\n",
              "      <td>migra ory bird   new clima e c ange   ra egy    ay  ome  link</td>\n",
              "    </tr>\n",
              "    <tr>\n",
              "      <th>8</th>\n",
              "      <td>Southern Africa: Competing for Limpopo Water: Climate change will bring higher temperatures to Southe... [link]</td>\n",
              "      <td>Yes</td>\n",
              "      <td>1.0000</td>\n",
              "      <td>ou  ern africa  com e ing for lim o o wa er  clima e c ange will bring  ig er  em era ure   o  ou  e     link</td>\n",
              "    </tr>\n",
              "    <tr>\n",
              "      <th>9</th>\n",
              "      <td>Global warming to impact wheat, rice production in India|Ludhiana, Apr 18 : Scarcity of water will have a serious .. [link]</td>\n",
              "      <td>Yes</td>\n",
              "      <td>1.0000</td>\n",
              "      <td>global warming  o im ac  w ea   rice  roduc ion in india lud iana  a r       carci y of wa er will  ave a  eriou      link</td>\n",
              "    </tr>\n",
              "  </tbody>\n",
              "</table>\n",
              "</div>"
            ],
            "text/plain": [
              "                                                                                                                         tweet  ...                                                                                                                  clean_tweet\n",
              "0       Global warming report urges governments to act|BRUSSELS, Belgium (AP) - The world faces increased hunger and .. [link]  ...       global warming re or  urge  governmen    o ac  bru  el   belgium  a       e world face  increa ed  unger and     link \n",
              "1                                                                         Fighting poverty and global warming in Africa [link]  ...                                                                         fig  ing  over y and global warming in africa  link \n",
              "2                                                  Carbon offsets: How a Vatican forest failed to reduce global warming [link]  ...                                                  carbon off e     ow a va ican fore   failed  o reduce global warming  link \n",
              "3                                                  Carbon offsets: How a Vatican forest failed to reduce global warming [link]  ...                                                  carbon off e     ow a va ican fore   failed  o reduce global warming  link \n",
              "4                                                     URUGUAY: Tools Needed for Those Most Vulnerable to Climate Change [link]  ...                                                     uruguay   ool  needed for   o e mo   vulnerable  o clima e c ange  link \n",
              "5                   RT @sejorg: RT @JaymiHeimbuch: Ocean Saltiness Shows Global Warming Is Intensifying Our Water Cycle [link]  ...                                        r    r    ocean  al ine     ow  global warming i  in en ifying our wa er cycle  link \n",
              "6       Global warming evidence all around us|A message to global warming deniers and doubters: Just look around our .. [link]  ...       global warming evidence all around u  a me  age  o global warming denier  and doub er   ju   look around our     link \n",
              "7                                                               Migratory Birds' New Climate Change Strategy: Stay Home [link]  ...                                                               migra ory bird   new clima e c ange   ra egy    ay  ome  link \n",
              "8              Southern Africa: Competing for Limpopo Water: Climate change will bring higher temperatures to Southe... [link]  ...               ou  ern africa  com e ing for lim o o wa er  clima e c ange will bring  ig er  em era ure   o  ou  e     link \n",
              "9  Global warming to impact wheat, rice production in India|Ludhiana, Apr 18 : Scarcity of water will have a serious .. [link]  ...  global warming  o im ac  w ea   rice  roduc ion in india lud iana  a r       carci y of wa er will  ave a  eriou      link \n",
              "\n",
              "[10 rows x 4 columns]"
            ]
          },
          "metadata": {
            "tags": []
          },
          "execution_count": 20
        }
      ]
    },
    {
      "cell_type": "markdown",
      "metadata": {
        "id": "in1AOYIlOApI"
      },
      "source": [
        "# Importing stop words from NLTK corpus and word tokenizer"
      ]
    },
    {
      "cell_type": "code",
      "metadata": {
        "colab": {
          "base_uri": "https://localhost:8080/"
        },
        "id": "TUfRK4eQOGEc",
        "outputId": "40e5add9-d807-452a-ed27-1888f84456a4"
      },
      "source": [
        "nltk.download('stopwords')\r\n",
        "from nltk.corpus import stopwords\r\n",
        "from nltk.tokenize import word_tokenize\r\n",
        "import nltk\r\n",
        "nltk.download('punkt')\r\n"
      ],
      "execution_count": 21,
      "outputs": [
        {
          "output_type": "stream",
          "text": [
            "[nltk_data] Downloading package stopwords to /root/nltk_data...\n",
            "[nltk_data]   Unzipping corpora/stopwords.zip.\n",
            "[nltk_data] Downloading package punkt to /root/nltk_data...\n",
            "[nltk_data]   Unzipping tokenizers/punkt.zip.\n"
          ],
          "name": "stdout"
        },
        {
          "output_type": "execute_result",
          "data": {
            "text/plain": [
              "True"
            ]
          },
          "metadata": {
            "tags": []
          },
          "execution_count": 21
        }
      ]
    },
    {
      "cell_type": "code",
      "metadata": {
        "colab": {
          "base_uri": "https://localhost:8080/"
        },
        "id": "AmwSBuCKONjR",
        "outputId": "43940183-0b55-463d-9578-ea4aaf9e2e95"
      },
      "source": [
        "# Importing stop words from NLTK corpus for english language\r\n",
        "stop_words = set(stopwords.words('english'))\r\n",
        "stop_words"
      ],
      "execution_count": 22,
      "outputs": [
        {
          "output_type": "execute_result",
          "data": {
            "text/plain": [
              "{'a',\n",
              " 'about',\n",
              " 'above',\n",
              " 'after',\n",
              " 'again',\n",
              " 'against',\n",
              " 'ain',\n",
              " 'all',\n",
              " 'am',\n",
              " 'an',\n",
              " 'and',\n",
              " 'any',\n",
              " 'are',\n",
              " 'aren',\n",
              " \"aren't\",\n",
              " 'as',\n",
              " 'at',\n",
              " 'be',\n",
              " 'because',\n",
              " 'been',\n",
              " 'before',\n",
              " 'being',\n",
              " 'below',\n",
              " 'between',\n",
              " 'both',\n",
              " 'but',\n",
              " 'by',\n",
              " 'can',\n",
              " 'couldn',\n",
              " \"couldn't\",\n",
              " 'd',\n",
              " 'did',\n",
              " 'didn',\n",
              " \"didn't\",\n",
              " 'do',\n",
              " 'does',\n",
              " 'doesn',\n",
              " \"doesn't\",\n",
              " 'doing',\n",
              " 'don',\n",
              " \"don't\",\n",
              " 'down',\n",
              " 'during',\n",
              " 'each',\n",
              " 'few',\n",
              " 'for',\n",
              " 'from',\n",
              " 'further',\n",
              " 'had',\n",
              " 'hadn',\n",
              " \"hadn't\",\n",
              " 'has',\n",
              " 'hasn',\n",
              " \"hasn't\",\n",
              " 'have',\n",
              " 'haven',\n",
              " \"haven't\",\n",
              " 'having',\n",
              " 'he',\n",
              " 'her',\n",
              " 'here',\n",
              " 'hers',\n",
              " 'herself',\n",
              " 'him',\n",
              " 'himself',\n",
              " 'his',\n",
              " 'how',\n",
              " 'i',\n",
              " 'if',\n",
              " 'in',\n",
              " 'into',\n",
              " 'is',\n",
              " 'isn',\n",
              " \"isn't\",\n",
              " 'it',\n",
              " \"it's\",\n",
              " 'its',\n",
              " 'itself',\n",
              " 'just',\n",
              " 'll',\n",
              " 'm',\n",
              " 'ma',\n",
              " 'me',\n",
              " 'mightn',\n",
              " \"mightn't\",\n",
              " 'more',\n",
              " 'most',\n",
              " 'mustn',\n",
              " \"mustn't\",\n",
              " 'my',\n",
              " 'myself',\n",
              " 'needn',\n",
              " \"needn't\",\n",
              " 'no',\n",
              " 'nor',\n",
              " 'not',\n",
              " 'now',\n",
              " 'o',\n",
              " 'of',\n",
              " 'off',\n",
              " 'on',\n",
              " 'once',\n",
              " 'only',\n",
              " 'or',\n",
              " 'other',\n",
              " 'our',\n",
              " 'ours',\n",
              " 'ourselves',\n",
              " 'out',\n",
              " 'over',\n",
              " 'own',\n",
              " 're',\n",
              " 's',\n",
              " 'same',\n",
              " 'shan',\n",
              " \"shan't\",\n",
              " 'she',\n",
              " \"she's\",\n",
              " 'should',\n",
              " \"should've\",\n",
              " 'shouldn',\n",
              " \"shouldn't\",\n",
              " 'so',\n",
              " 'some',\n",
              " 'such',\n",
              " 't',\n",
              " 'than',\n",
              " 'that',\n",
              " \"that'll\",\n",
              " 'the',\n",
              " 'their',\n",
              " 'theirs',\n",
              " 'them',\n",
              " 'themselves',\n",
              " 'then',\n",
              " 'there',\n",
              " 'these',\n",
              " 'they',\n",
              " 'this',\n",
              " 'those',\n",
              " 'through',\n",
              " 'to',\n",
              " 'too',\n",
              " 'under',\n",
              " 'until',\n",
              " 'up',\n",
              " 've',\n",
              " 'very',\n",
              " 'was',\n",
              " 'wasn',\n",
              " \"wasn't\",\n",
              " 'we',\n",
              " 'were',\n",
              " 'weren',\n",
              " \"weren't\",\n",
              " 'what',\n",
              " 'when',\n",
              " 'where',\n",
              " 'which',\n",
              " 'while',\n",
              " 'who',\n",
              " 'whom',\n",
              " 'why',\n",
              " 'will',\n",
              " 'with',\n",
              " 'won',\n",
              " \"won't\",\n",
              " 'wouldn',\n",
              " \"wouldn't\",\n",
              " 'y',\n",
              " 'you',\n",
              " \"you'd\",\n",
              " \"you'll\",\n",
              " \"you're\",\n",
              " \"you've\",\n",
              " 'your',\n",
              " 'yours',\n",
              " 'yourself',\n",
              " 'yourselves'}"
            ]
          },
          "metadata": {
            "tags": []
          },
          "execution_count": 22
        }
      ]
    },
    {
      "cell_type": "markdown",
      "metadata": {
        "id": "EmYhgYUIOVa8"
      },
      "source": [
        "# Creating token for the clean tweets"
      ]
    },
    {
      "cell_type": "code",
      "metadata": {
        "colab": {
          "base_uri": "https://localhost:8080/"
        },
        "id": "tg5NmgqAOQzL",
        "outputId": "7d27e659-32e4-4317-bdff-c61d18e51406"
      },
      "source": [
        "data['tweet_token']=data['clean_tweet']\r\n",
        "data['tweet_token']=data['clean_tweet'].apply(lambda x: word_tokenize(x))\r\n",
        "data['tweet_token'].head(10)"
      ],
      "execution_count": 23,
      "outputs": [
        {
          "output_type": "execute_result",
          "data": {
            "text/plain": [
              "0                  [global, warming, re, or, urge, governmen, o, ac, bru, el, belgium, a, e, world, face, increa, ed, unger, and, link]\n",
              "1                                                                           [fig, ing, over, y, and, global, warming, in, africa, link]\n",
              "2                                                     [carbon, off, e, ow, a, va, ican, fore, failed, o, reduce, global, warming, link]\n",
              "3                                                     [carbon, off, e, ow, a, va, ican, fore, failed, o, reduce, global, warming, link]\n",
              "4                                                         [uruguay, ool, needed, for, o, e, mo, vulnerable, o, clima, e, c, ange, link]\n",
              "5                                              [r, r, ocean, al, ine, ow, global, warming, i, in, en, ifying, our, wa, er, cycle, link]\n",
              "6       [global, warming, evidence, all, around, u, a, me, age, o, global, warming, denier, and, doub, er, ju, look, around, our, link]\n",
              "7                                                                    [migra, ory, bird, new, clima, e, c, ange, ra, egy, ay, ome, link]\n",
              "8          [ou, ern, africa, com, e, ing, for, lim, o, o, wa, er, clima, e, c, ange, will, bring, ig, er, em, era, ure, o, ou, e, link]\n",
              "9    [global, warming, o, im, ac, w, ea, rice, roduc, ion, in, india, lud, iana, a, r, carci, y, of, wa, er, will, ave, a, eriou, link]\n",
              "Name: tweet_token, dtype: object"
            ]
          },
          "metadata": {
            "tags": []
          },
          "execution_count": 23
        }
      ]
    },
    {
      "cell_type": "markdown",
      "metadata": {
        "id": "jcIdSL0tOiO_"
      },
      "source": [
        "#Removing Stopwords\r\n",
        "# Created new columns of tokens - where stop words are being removed\r\n"
      ]
    },
    {
      "cell_type": "code",
      "metadata": {
        "colab": {
          "base_uri": "https://localhost:8080/",
          "height": 427
        },
        "id": "YSWgDAqCOpGa",
        "outputId": "32e3bf96-9875-4840-8964-3b13e1141e81"
      },
      "source": [
        "data['tweet_token_filtered'] =data['tweet_token'].apply(lambda x: [word for word in x if not word in stop_words])\r\n",
        "\r\n",
        "## Tokens columns with stop words and without stop words\r\n",
        "data[['tweet_token', 'tweet_token_filtered']].head(10)\r\n"
      ],
      "execution_count": 24,
      "outputs": [
        {
          "output_type": "execute_result",
          "data": {
            "text/html": [
              "<div>\n",
              "<style scoped>\n",
              "    .dataframe tbody tr th:only-of-type {\n",
              "        vertical-align: middle;\n",
              "    }\n",
              "\n",
              "    .dataframe tbody tr th {\n",
              "        vertical-align: top;\n",
              "    }\n",
              "\n",
              "    .dataframe thead th {\n",
              "        text-align: right;\n",
              "    }\n",
              "</style>\n",
              "<table border=\"1\" class=\"dataframe\">\n",
              "  <thead>\n",
              "    <tr style=\"text-align: right;\">\n",
              "      <th></th>\n",
              "      <th>tweet_token</th>\n",
              "      <th>tweet_token_filtered</th>\n",
              "    </tr>\n",
              "  </thead>\n",
              "  <tbody>\n",
              "    <tr>\n",
              "      <th>0</th>\n",
              "      <td>[global, warming, re, or, urge, governmen, o, ac, bru, el, belgium, a, e, world, face, increa, ed, unger, and, link]</td>\n",
              "      <td>[global, warming, urge, governmen, ac, bru, el, belgium, e, world, face, increa, ed, unger, link]</td>\n",
              "    </tr>\n",
              "    <tr>\n",
              "      <th>1</th>\n",
              "      <td>[fig, ing, over, y, and, global, warming, in, africa, link]</td>\n",
              "      <td>[fig, ing, global, warming, africa, link]</td>\n",
              "    </tr>\n",
              "    <tr>\n",
              "      <th>2</th>\n",
              "      <td>[carbon, off, e, ow, a, va, ican, fore, failed, o, reduce, global, warming, link]</td>\n",
              "      <td>[carbon, e, ow, va, ican, fore, failed, reduce, global, warming, link]</td>\n",
              "    </tr>\n",
              "    <tr>\n",
              "      <th>3</th>\n",
              "      <td>[carbon, off, e, ow, a, va, ican, fore, failed, o, reduce, global, warming, link]</td>\n",
              "      <td>[carbon, e, ow, va, ican, fore, failed, reduce, global, warming, link]</td>\n",
              "    </tr>\n",
              "    <tr>\n",
              "      <th>4</th>\n",
              "      <td>[uruguay, ool, needed, for, o, e, mo, vulnerable, o, clima, e, c, ange, link]</td>\n",
              "      <td>[uruguay, ool, needed, e, mo, vulnerable, clima, e, c, ange, link]</td>\n",
              "    </tr>\n",
              "    <tr>\n",
              "      <th>5</th>\n",
              "      <td>[r, r, ocean, al, ine, ow, global, warming, i, in, en, ifying, our, wa, er, cycle, link]</td>\n",
              "      <td>[r, r, ocean, al, ine, ow, global, warming, en, ifying, wa, er, cycle, link]</td>\n",
              "    </tr>\n",
              "    <tr>\n",
              "      <th>6</th>\n",
              "      <td>[global, warming, evidence, all, around, u, a, me, age, o, global, warming, denier, and, doub, er, ju, look, around, our, link]</td>\n",
              "      <td>[global, warming, evidence, around, u, age, global, warming, denier, doub, er, ju, look, around, link]</td>\n",
              "    </tr>\n",
              "    <tr>\n",
              "      <th>7</th>\n",
              "      <td>[migra, ory, bird, new, clima, e, c, ange, ra, egy, ay, ome, link]</td>\n",
              "      <td>[migra, ory, bird, new, clima, e, c, ange, ra, egy, ay, ome, link]</td>\n",
              "    </tr>\n",
              "    <tr>\n",
              "      <th>8</th>\n",
              "      <td>[ou, ern, africa, com, e, ing, for, lim, o, o, wa, er, clima, e, c, ange, will, bring, ig, er, em, era, ure, o, ou, e, link]</td>\n",
              "      <td>[ou, ern, africa, com, e, ing, lim, wa, er, clima, e, c, ange, bring, ig, er, em, era, ure, ou, e, link]</td>\n",
              "    </tr>\n",
              "    <tr>\n",
              "      <th>9</th>\n",
              "      <td>[global, warming, o, im, ac, w, ea, rice, roduc, ion, in, india, lud, iana, a, r, carci, y, of, wa, er, will, ave, a, eriou, link]</td>\n",
              "      <td>[global, warming, im, ac, w, ea, rice, roduc, ion, india, lud, iana, r, carci, wa, er, ave, eriou, link]</td>\n",
              "    </tr>\n",
              "  </tbody>\n",
              "</table>\n",
              "</div>"
            ],
            "text/plain": [
              "                                                                                                                          tweet_token                                                                                      tweet_token_filtered\n",
              "0                [global, warming, re, or, urge, governmen, o, ac, bru, el, belgium, a, e, world, face, increa, ed, unger, and, link]         [global, warming, urge, governmen, ac, bru, el, belgium, e, world, face, increa, ed, unger, link]\n",
              "1                                                                         [fig, ing, over, y, and, global, warming, in, africa, link]                                                                 [fig, ing, global, warming, africa, link]\n",
              "2                                                   [carbon, off, e, ow, a, va, ican, fore, failed, o, reduce, global, warming, link]                                    [carbon, e, ow, va, ican, fore, failed, reduce, global, warming, link]\n",
              "3                                                   [carbon, off, e, ow, a, va, ican, fore, failed, o, reduce, global, warming, link]                                    [carbon, e, ow, va, ican, fore, failed, reduce, global, warming, link]\n",
              "4                                                       [uruguay, ool, needed, for, o, e, mo, vulnerable, o, clima, e, c, ange, link]                                        [uruguay, ool, needed, e, mo, vulnerable, clima, e, c, ange, link]\n",
              "5                                            [r, r, ocean, al, ine, ow, global, warming, i, in, en, ifying, our, wa, er, cycle, link]                              [r, r, ocean, al, ine, ow, global, warming, en, ifying, wa, er, cycle, link]\n",
              "6     [global, warming, evidence, all, around, u, a, me, age, o, global, warming, denier, and, doub, er, ju, look, around, our, link]    [global, warming, evidence, around, u, age, global, warming, denier, doub, er, ju, look, around, link]\n",
              "7                                                                  [migra, ory, bird, new, clima, e, c, ange, ra, egy, ay, ome, link]                                        [migra, ory, bird, new, clima, e, c, ange, ra, egy, ay, ome, link]\n",
              "8        [ou, ern, africa, com, e, ing, for, lim, o, o, wa, er, clima, e, c, ange, will, bring, ig, er, em, era, ure, o, ou, e, link]  [ou, ern, africa, com, e, ing, lim, wa, er, clima, e, c, ange, bring, ig, er, em, era, ure, ou, e, link]\n",
              "9  [global, warming, o, im, ac, w, ea, rice, roduc, ion, in, india, lud, iana, a, r, carci, y, of, wa, er, will, ave, a, eriou, link]  [global, warming, im, ac, w, ea, rice, roduc, ion, india, lud, iana, r, carci, wa, er, ave, eriou, link]"
            ]
          },
          "metadata": {
            "tags": []
          },
          "execution_count": 24
        }
      ]
    },
    {
      "cell_type": "markdown",
      "metadata": {
        "id": "DZXByEO2Ozba"
      },
      "source": [
        "#Lemmatizing tweets"
      ]
    },
    {
      "cell_type": "code",
      "metadata": {
        "colab": {
          "base_uri": "https://localhost:8080/"
        },
        "id": "vazv8JULOvk1",
        "outputId": "1f430d4e-37b1-419b-93ce-6d322cb4c489"
      },
      "source": [
        "# Importing library for lemmatizing\r\n",
        "import nltk\r\n",
        "nltk.download('wordnet')\r\n",
        "from nltk.stem.wordnet import WordNetLemmatizer\r\n",
        "lemmatizing = WordNetLemmatizer()\r\n",
        "    "
      ],
      "execution_count": 25,
      "outputs": [
        {
          "output_type": "stream",
          "text": [
            "[nltk_data] Downloading package wordnet to /root/nltk_data...\n",
            "[nltk_data]   Unzipping corpora/wordnet.zip.\n"
          ],
          "name": "stdout"
        }
      ]
    },
    {
      "cell_type": "code",
      "metadata": {
        "colab": {
          "base_uri": "https://localhost:8080/"
        },
        "id": "BA39Gvd_O_CK",
        "outputId": "8f7e3ea5-10c4-4dae-f574-fe55334629c4"
      },
      "source": [
        "# Created one more columns tweet_lemmatized it shows tweets' lemmatized version\r\n",
        "data['tweet_lemmatized'] = data['clean_tweet']\r\n",
        "data['tweet_lemmatized']=data['tweet_token'].apply(lambda x: ' '.join([lemmatizing.lemmatize(i) for i in x]))\r\n",
        "data['tweet_lemmatized'].head(10)"
      ],
      "execution_count": 26,
      "outputs": [
        {
          "output_type": "execute_result",
          "data": {
            "text/plain": [
              "0              global warming re or urge governmen o ac bru el belgium a e world face increa ed unger and link\n",
              "1                                                             fig ing over y and global warming in africa link\n",
              "2                                           carbon off e ow a va ican fore failed o reduce global warming link\n",
              "3                                           carbon off e ow a va ican fore failed o reduce global warming link\n",
              "4                                               uruguay ool needed for o e mo vulnerable o clima e c ange link\n",
              "5                                       r r ocean al ine ow global warming i in en ifying our wa er cycle link\n",
              "6    global warming evidence all around u a me age o global warming denier and doub er ju look around our link\n",
              "7                                                         migra ory bird new clima e c ange ra egy ay ome link\n",
              "8             ou ern africa com e ing for lim o o wa er clima e c ange will bring ig er em era ure o ou e link\n",
              "9      global warming o im ac w ea rice roduc ion in india lud iana a r carci y of wa er will ave a eriou link\n",
              "Name: tweet_lemmatized, dtype: object"
            ]
          },
          "metadata": {
            "tags": []
          },
          "execution_count": 26
        }
      ]
    },
    {
      "cell_type": "markdown",
      "metadata": {
        "id": "xQt3_LvuPIZ3"
      },
      "source": [
        "#Adding Labels to dataframe"
      ]
    },
    {
      "cell_type": "code",
      "metadata": {
        "colab": {
          "base_uri": "https://localhost:8080/"
        },
        "id": "3wN03ndFPKf-",
        "outputId": "1b6188e2-ea40-43fd-f5e9-1a662a61a151"
      },
      "source": [
        "# LABEL THE DATA BEFORE MODELLING IT\r\n",
        "!pip install textblob    #needed for sentiment analysis"
      ],
      "execution_count": 27,
      "outputs": [
        {
          "output_type": "stream",
          "text": [
            "Requirement already satisfied: textblob in /usr/local/lib/python3.6/dist-packages (0.15.3)\n",
            "Requirement already satisfied: nltk>=3.1 in /usr/local/lib/python3.6/dist-packages (from textblob) (3.2.5)\n",
            "Requirement already satisfied: six in /usr/local/lib/python3.6/dist-packages (from nltk>=3.1->textblob) (1.15.0)\n"
          ],
          "name": "stdout"
        }
      ]
    },
    {
      "cell_type": "code",
      "metadata": {
        "colab": {
          "base_uri": "https://localhost:8080/",
          "height": 391
        },
        "id": "LWe8QWUbPcHz",
        "outputId": "63e5c1dc-f6e7-4a0a-a7a4-c923c851b6b4"
      },
      "source": [
        "from textblob import TextBlob\r\n",
        "data['sentiment'] = data['tweet'].apply(lambda Tweet: TextBlob(Tweet).sentiment.polarity)\r\n",
        "pd.options.display.max_colwidth=200\r\n",
        "data.head()\r\n"
      ],
      "execution_count": 28,
      "outputs": [
        {
          "output_type": "execute_result",
          "data": {
            "text/html": [
              "<div>\n",
              "<style scoped>\n",
              "    .dataframe tbody tr th:only-of-type {\n",
              "        vertical-align: middle;\n",
              "    }\n",
              "\n",
              "    .dataframe tbody tr th {\n",
              "        vertical-align: top;\n",
              "    }\n",
              "\n",
              "    .dataframe thead th {\n",
              "        text-align: right;\n",
              "    }\n",
              "</style>\n",
              "<table border=\"1\" class=\"dataframe\">\n",
              "  <thead>\n",
              "    <tr style=\"text-align: right;\">\n",
              "      <th></th>\n",
              "      <th>tweet</th>\n",
              "      <th>existence</th>\n",
              "      <th>confidence</th>\n",
              "      <th>clean_tweet</th>\n",
              "      <th>tweet_token</th>\n",
              "      <th>tweet_token_filtered</th>\n",
              "      <th>tweet_lemmatized</th>\n",
              "      <th>sentiment</th>\n",
              "    </tr>\n",
              "  </thead>\n",
              "  <tbody>\n",
              "    <tr>\n",
              "      <th>0</th>\n",
              "      <td>Global warming report urges governments to act|BRUSSELS, Belgium (AP) - The world faces increased hunger and .. [link]</td>\n",
              "      <td>Yes</td>\n",
              "      <td>1.0000</td>\n",
              "      <td>global warming re or  urge  governmen    o ac  bru  el   belgium  a       e world face  increa ed  unger and     link</td>\n",
              "      <td>[global, warming, re, or, urge, governmen, o, ac, bru, el, belgium, a, e, world, face, increa, ed, unger, and, link]</td>\n",
              "      <td>[global, warming, urge, governmen, ac, bru, el, belgium, e, world, face, increa, ed, unger, link]</td>\n",
              "      <td>global warming re or urge governmen o ac bru el belgium a e world face increa ed unger and link</td>\n",
              "      <td>0.00</td>\n",
              "    </tr>\n",
              "    <tr>\n",
              "      <th>1</th>\n",
              "      <td>Fighting poverty and global warming in Africa [link]</td>\n",
              "      <td>Yes</td>\n",
              "      <td>1.0000</td>\n",
              "      <td>fig  ing  over y and global warming in africa  link</td>\n",
              "      <td>[fig, ing, over, y, and, global, warming, in, africa, link]</td>\n",
              "      <td>[fig, ing, global, warming, africa, link]</td>\n",
              "      <td>fig ing over y and global warming in africa link</td>\n",
              "      <td>0.00</td>\n",
              "    </tr>\n",
              "    <tr>\n",
              "      <th>2</th>\n",
              "      <td>Carbon offsets: How a Vatican forest failed to reduce global warming [link]</td>\n",
              "      <td>Yes</td>\n",
              "      <td>0.8786</td>\n",
              "      <td>carbon off e     ow a va ican fore   failed  o reduce global warming  link</td>\n",
              "      <td>[carbon, off, e, ow, a, va, ican, fore, failed, o, reduce, global, warming, link]</td>\n",
              "      <td>[carbon, e, ow, va, ican, fore, failed, reduce, global, warming, link]</td>\n",
              "      <td>carbon off e ow a va ican fore failed o reduce global warming link</td>\n",
              "      <td>-0.25</td>\n",
              "    </tr>\n",
              "    <tr>\n",
              "      <th>3</th>\n",
              "      <td>Carbon offsets: How a Vatican forest failed to reduce global warming [link]</td>\n",
              "      <td>Yes</td>\n",
              "      <td>1.0000</td>\n",
              "      <td>carbon off e     ow a va ican fore   failed  o reduce global warming  link</td>\n",
              "      <td>[carbon, off, e, ow, a, va, ican, fore, failed, o, reduce, global, warming, link]</td>\n",
              "      <td>[carbon, e, ow, va, ican, fore, failed, reduce, global, warming, link]</td>\n",
              "      <td>carbon off e ow a va ican fore failed o reduce global warming link</td>\n",
              "      <td>-0.25</td>\n",
              "    </tr>\n",
              "    <tr>\n",
              "      <th>4</th>\n",
              "      <td>URUGUAY: Tools Needed for Those Most Vulnerable to Climate Change [link]</td>\n",
              "      <td>Yes</td>\n",
              "      <td>0.8087</td>\n",
              "      <td>uruguay   ool  needed for   o e mo   vulnerable  o clima e c ange  link</td>\n",
              "      <td>[uruguay, ool, needed, for, o, e, mo, vulnerable, o, clima, e, c, ange, link]</td>\n",
              "      <td>[uruguay, ool, needed, e, mo, vulnerable, clima, e, c, ange, link]</td>\n",
              "      <td>uruguay ool needed for o e mo vulnerable o clima e c ange link</td>\n",
              "      <td>0.00</td>\n",
              "    </tr>\n",
              "  </tbody>\n",
              "</table>\n",
              "</div>"
            ],
            "text/plain": [
              "                                                                                                                    tweet  ... sentiment\n",
              "0  Global warming report urges governments to act|BRUSSELS, Belgium (AP) - The world faces increased hunger and .. [link]  ...      0.00\n",
              "1                                                                    Fighting poverty and global warming in Africa [link]  ...      0.00\n",
              "2                                             Carbon offsets: How a Vatican forest failed to reduce global warming [link]  ...     -0.25\n",
              "3                                             Carbon offsets: How a Vatican forest failed to reduce global warming [link]  ...     -0.25\n",
              "4                                                URUGUAY: Tools Needed for Those Most Vulnerable to Climate Change [link]  ...      0.00\n",
              "\n",
              "[5 rows x 8 columns]"
            ]
          },
          "metadata": {
            "tags": []
          },
          "execution_count": 28
        }
      ]
    },
    {
      "cell_type": "code",
      "metadata": {
        "colab": {
          "base_uri": "https://localhost:8080/",
          "height": 359
        },
        "id": "NoyqUls4PoVm",
        "outputId": "a696a679-9968-463e-8d45-804d89145fb7"
      },
      "source": [
        "#Finally adding labels \r\n",
        "import numpy as np\r\n",
        "conditionList = [\r\n",
        "     data['sentiment'] ==0,            \r\n",
        "    data['sentiment'] > 0.0,\r\n",
        "    data['sentiment'] < 0.0]\r\n",
        "choiceList = ['neutral','positive', 'negative']\r\n",
        "data['label'] = np.select(conditionList, choiceList, default='no_label')\r\n",
        "pd.options.display.max_colwidth=20\r\n",
        "data.head(10)\r\n"
      ],
      "execution_count": 29,
      "outputs": [
        {
          "output_type": "execute_result",
          "data": {
            "text/html": [
              "<div>\n",
              "<style scoped>\n",
              "    .dataframe tbody tr th:only-of-type {\n",
              "        vertical-align: middle;\n",
              "    }\n",
              "\n",
              "    .dataframe tbody tr th {\n",
              "        vertical-align: top;\n",
              "    }\n",
              "\n",
              "    .dataframe thead th {\n",
              "        text-align: right;\n",
              "    }\n",
              "</style>\n",
              "<table border=\"1\" class=\"dataframe\">\n",
              "  <thead>\n",
              "    <tr style=\"text-align: right;\">\n",
              "      <th></th>\n",
              "      <th>tweet</th>\n",
              "      <th>existence</th>\n",
              "      <th>confidence</th>\n",
              "      <th>clean_tweet</th>\n",
              "      <th>tweet_token</th>\n",
              "      <th>tweet_token_filtered</th>\n",
              "      <th>tweet_lemmatized</th>\n",
              "      <th>sentiment</th>\n",
              "      <th>label</th>\n",
              "    </tr>\n",
              "  </thead>\n",
              "  <tbody>\n",
              "    <tr>\n",
              "      <th>0</th>\n",
              "      <td>Global warming r...</td>\n",
              "      <td>Yes</td>\n",
              "      <td>1.0000</td>\n",
              "      <td>global warming r...</td>\n",
              "      <td>[global, warming...</td>\n",
              "      <td>[global, warming...</td>\n",
              "      <td>global warming r...</td>\n",
              "      <td>0.000000</td>\n",
              "      <td>neutral</td>\n",
              "    </tr>\n",
              "    <tr>\n",
              "      <th>1</th>\n",
              "      <td>Fighting poverty...</td>\n",
              "      <td>Yes</td>\n",
              "      <td>1.0000</td>\n",
              "      <td>fig  ing  over y...</td>\n",
              "      <td>[fig, ing, over,...</td>\n",
              "      <td>[fig, ing, globa...</td>\n",
              "      <td>fig ing over y a...</td>\n",
              "      <td>0.000000</td>\n",
              "      <td>neutral</td>\n",
              "    </tr>\n",
              "    <tr>\n",
              "      <th>2</th>\n",
              "      <td>Carbon offsets: ...</td>\n",
              "      <td>Yes</td>\n",
              "      <td>0.8786</td>\n",
              "      <td>carbon off e    ...</td>\n",
              "      <td>[carbon, off, e,...</td>\n",
              "      <td>[carbon, e, ow, ...</td>\n",
              "      <td>carbon off e ow ...</td>\n",
              "      <td>-0.250000</td>\n",
              "      <td>negative</td>\n",
              "    </tr>\n",
              "    <tr>\n",
              "      <th>3</th>\n",
              "      <td>Carbon offsets: ...</td>\n",
              "      <td>Yes</td>\n",
              "      <td>1.0000</td>\n",
              "      <td>carbon off e    ...</td>\n",
              "      <td>[carbon, off, e,...</td>\n",
              "      <td>[carbon, e, ow, ...</td>\n",
              "      <td>carbon off e ow ...</td>\n",
              "      <td>-0.250000</td>\n",
              "      <td>negative</td>\n",
              "    </tr>\n",
              "    <tr>\n",
              "      <th>4</th>\n",
              "      <td>URUGUAY: Tools N...</td>\n",
              "      <td>Yes</td>\n",
              "      <td>0.8087</td>\n",
              "      <td>uruguay   ool  n...</td>\n",
              "      <td>[uruguay, ool, n...</td>\n",
              "      <td>[uruguay, ool, n...</td>\n",
              "      <td>uruguay ool need...</td>\n",
              "      <td>0.000000</td>\n",
              "      <td>neutral</td>\n",
              "    </tr>\n",
              "    <tr>\n",
              "      <th>5</th>\n",
              "      <td>RT @sejorg: RT @...</td>\n",
              "      <td>Yes</td>\n",
              "      <td>1.0000</td>\n",
              "      <td>r    r    ocean ...</td>\n",
              "      <td>[r, r, ocean, al...</td>\n",
              "      <td>[r, r, ocean, al...</td>\n",
              "      <td>r r ocean al ine...</td>\n",
              "      <td>0.000000</td>\n",
              "      <td>neutral</td>\n",
              "    </tr>\n",
              "    <tr>\n",
              "      <th>6</th>\n",
              "      <td>Global warming e...</td>\n",
              "      <td>Yes</td>\n",
              "      <td>1.0000</td>\n",
              "      <td>global warming e...</td>\n",
              "      <td>[global, warming...</td>\n",
              "      <td>[global, warming...</td>\n",
              "      <td>global warming e...</td>\n",
              "      <td>0.000000</td>\n",
              "      <td>neutral</td>\n",
              "    </tr>\n",
              "    <tr>\n",
              "      <th>7</th>\n",
              "      <td>Migratory Birds'...</td>\n",
              "      <td>Yes</td>\n",
              "      <td>1.0000</td>\n",
              "      <td>migra ory bird  ...</td>\n",
              "      <td>[migra, ory, bir...</td>\n",
              "      <td>[migra, ory, bir...</td>\n",
              "      <td>migra ory bird n...</td>\n",
              "      <td>0.136364</td>\n",
              "      <td>positive</td>\n",
              "    </tr>\n",
              "    <tr>\n",
              "      <th>8</th>\n",
              "      <td>Southern Africa:...</td>\n",
              "      <td>Yes</td>\n",
              "      <td>1.0000</td>\n",
              "      <td>ou  ern africa ...</td>\n",
              "      <td>[ou, ern, africa...</td>\n",
              "      <td>[ou, ern, africa...</td>\n",
              "      <td>ou ern africa co...</td>\n",
              "      <td>0.125000</td>\n",
              "      <td>positive</td>\n",
              "    </tr>\n",
              "    <tr>\n",
              "      <th>9</th>\n",
              "      <td>Global warming t...</td>\n",
              "      <td>Yes</td>\n",
              "      <td>1.0000</td>\n",
              "      <td>global warming  ...</td>\n",
              "      <td>[global, warming...</td>\n",
              "      <td>[global, warming...</td>\n",
              "      <td>global warming o...</td>\n",
              "      <td>-0.166667</td>\n",
              "      <td>negative</td>\n",
              "    </tr>\n",
              "  </tbody>\n",
              "</table>\n",
              "</div>"
            ],
            "text/plain": [
              "                 tweet existence  ...  sentiment     label\n",
              "0  Global warming r...       Yes  ...   0.000000   neutral\n",
              "1  Fighting poverty...       Yes  ...   0.000000   neutral\n",
              "2  Carbon offsets: ...       Yes  ...  -0.250000  negative\n",
              "3  Carbon offsets: ...       Yes  ...  -0.250000  negative\n",
              "4  URUGUAY: Tools N...       Yes  ...   0.000000   neutral\n",
              "5  RT @sejorg: RT @...       Yes  ...   0.000000   neutral\n",
              "6  Global warming e...       Yes  ...   0.000000   neutral\n",
              "7  Migratory Birds'...       Yes  ...   0.136364  positive\n",
              "8  Southern Africa:...       Yes  ...   0.125000  positive\n",
              "9  Global warming t...       Yes  ...  -0.166667  negative\n",
              "\n",
              "[10 rows x 9 columns]"
            ]
          },
          "metadata": {
            "tags": []
          },
          "execution_count": 29
        }
      ]
    },
    {
      "cell_type": "markdown",
      "metadata": {
        "id": "Uqd1e-MiPuYk"
      },
      "source": [
        "#Extracting Features from Cleaned Tweets"
      ]
    },
    {
      "cell_type": "markdown",
      "metadata": {
        "id": "PR31AJBiP_8n"
      },
      "source": [
        "#Lemmatized Tweets Models ahead"
      ]
    },
    {
      "cell_type": "code",
      "metadata": {
        "colab": {
          "base_uri": "https://localhost:8080/"
        },
        "id": "erbuxopOP0Yx",
        "outputId": "1bef3acd-ce36-470f-fa7e-fe43aa1baa96"
      },
      "source": [
        "# Importing library\r\n",
        "from sklearn.feature_extraction.text import CountVectorizer\r\n",
        "bow_vectorizer = CountVectorizer(max_df=0.90, min_df=2, stop_words='english')\r\n",
        "bow_vectorizer\r\n",
        "# bag-of-words feature matrix - For column -['tweet_lemmatized']\r\n",
        "bow_lemm = bow_vectorizer.fit_transform(data['tweet_lemmatized'])\r\n",
        "bow_lemm"
      ],
      "execution_count": 30,
      "outputs": [
        {
          "output_type": "execute_result",
          "data": {
            "text/plain": [
              "<4134x2767 sparse matrix of type '<class 'numpy.int64'>'\n",
              "\twith 49288 stored elements in Compressed Sparse Row format>"
            ]
          },
          "metadata": {
            "tags": []
          },
          "execution_count": 30
        }
      ]
    },
    {
      "cell_type": "code",
      "metadata": {
        "colab": {
          "base_uri": "https://localhost:8080/"
        },
        "id": "miUD0eVGQKkw",
        "outputId": "021829a3-47a2-49e8-fe30-f60444c1c38d"
      },
      "source": [
        "# For columns lemm\r\n",
        "x = bow_lemm[:,:]     #training \r\n",
        "y= data['sentiment']\r\n",
        "# Importing Libraries\r\n",
        "from sklearn.linear_model import LogisticRegression\r\n",
        "from sklearn.model_selection import train_test_split\r\n",
        "#using label encoder to change label values to cat values so that log reg can pass them\r\n",
        "from sklearn import preprocessing\r\n",
        "from sklearn import utils\r\n",
        "\r\n",
        "labelencoder = preprocessing.LabelEncoder()\r\n",
        "y =labelencoder.fit_transform(y)\r\n",
        "y\r\n"
      ],
      "execution_count": 41,
      "outputs": [
        {
          "output_type": "execute_result",
          "data": {
            "text/plain": [
              "array([201, 201,  52, ..., 355, 201, 201])"
            ]
          },
          "metadata": {
            "tags": []
          },
          "execution_count": 41
        }
      ]
    },
    {
      "cell_type": "code",
      "metadata": {
        "id": "a-zceBkoQPoI"
      },
      "source": [
        "# splitting data into training and validation set\r\n",
        "x_train, x_test, y_train, y_test = train_test_split(x,y, random_state=42, test_size=0.2)\r\n",
        "\r\n"
      ],
      "execution_count": 42,
      "outputs": []
    },
    {
      "cell_type": "markdown",
      "metadata": {
        "id": "A-9j2iqcQar8"
      },
      "source": [
        "#Part 2 : Training the logistic regression model"
      ]
    },
    {
      "cell_type": "code",
      "metadata": {
        "colab": {
          "base_uri": "https://localhost:8080/"
        },
        "id": "S3eelymhQTjl",
        "outputId": "848183b9-9ea0-443b-84ff-bb4bd70e655b"
      },
      "source": [
        "lreg = LogisticRegression()\r\n",
        "\r\n",
        "#x_train=x_train.toarray()\r\n",
        "\r\n",
        "lreg.fit(x_train, y_train) # training the model"
      ],
      "execution_count": 44,
      "outputs": [
        {
          "output_type": "execute_result",
          "data": {
            "text/plain": [
              "LogisticRegression(C=1.0, class_weight=None, dual=False, fit_intercept=True,\n",
              "                   intercept_scaling=1, l1_ratio=None, max_iter=100,\n",
              "                   multi_class='auto', n_jobs=None, penalty='l2',\n",
              "                   random_state=None, solver='lbfgs', tol=0.0001, verbose=0,\n",
              "                   warm_start=False)"
            ]
          },
          "metadata": {
            "tags": []
          },
          "execution_count": 44
        }
      ]
    },
    {
      "cell_type": "markdown",
      "metadata": {
        "id": "uleRFJL6TzJ0"
      },
      "source": [
        "#Part 3 : Evaluating the model"
      ]
    },
    {
      "cell_type": "code",
      "metadata": {
        "colab": {
          "base_uri": "https://localhost:8080/"
        },
        "id": "ykm2EZ4eTEwY",
        "outputId": "fb09cc6e-18bf-4cde-c186-8d3800638871"
      },
      "source": [
        "prediction = lreg.predict(x_test) # predicting on the validation set\r\n",
        "\r\n",
        "from sklearn.metrics import f1_score\r\n",
        "Log_reg_f1 = f1_score(y_test, prediction,average='micro') # calculating f1 score\r\n",
        "print(Log_reg_f1)"
      ],
      "execution_count": 46,
      "outputs": [
        {
          "output_type": "stream",
          "text": [
            "0.6420798065296252\n"
          ],
          "name": "stdout"
        }
      ]
    },
    {
      "cell_type": "code",
      "metadata": {
        "colab": {
          "base_uri": "https://localhost:8080/"
        },
        "id": "613GeieZUZ0-",
        "outputId": "0a9aff01-cad6-4dde-ba43-63e7ee04e3ba"
      },
      "source": [
        "#getting value counts for df\r\n",
        "data['label'].value_counts()"
      ],
      "execution_count": 47,
      "outputs": [
        {
          "output_type": "execute_result",
          "data": {
            "text/plain": [
              "neutral     1730\n",
              "positive    1446\n",
              "negative     958\n",
              "Name: label, dtype: int64"
            ]
          },
          "metadata": {
            "tags": []
          },
          "execution_count": 47
        }
      ]
    },
    {
      "cell_type": "code",
      "metadata": {
        "colab": {
          "base_uri": "https://localhost:8080/",
          "height": 249
        },
        "id": "hfImNEL4Ubed",
        "outputId": "90aa0ed4-4581-4dc9-e777-384b72a65642"
      },
      "source": [
        "# Visualizing the values of the 3 classes before nlp model\r\n",
        "import matplotlib.pyplot as plt\r\n",
        "existence= ['POSITIVE','NEGATIVE','NEUTRAL'] \r\n",
        "data = [1446,958,1730] \r\n",
        "import matplotlib.pyplot as plt\r\n",
        " \r\n",
        "\r\n",
        "fig1, ax1 = plt.subplots()\r\n",
        "explode = (0, 0.1, 0) \r\n",
        "ax1.pie(data, explode=explode, labels=existence,autopct='%1.1f%%',\r\n",
        "        shadow=True, startangle=90,textprops={'fontsize': 14})\r\n",
        " \r\n",
        "plt.show()"
      ],
      "execution_count": 48,
      "outputs": [
        {
          "output_type": "display_data",
          "data": {
            "image/png": "[encoded data removed]",
            "text/plain": [
              "<Figure size 432x288 with 1 Axes>"
            ]
          },
          "metadata": {
            "tags": []
          }
        }
      ]
    }
  ]
}